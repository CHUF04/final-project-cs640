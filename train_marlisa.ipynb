{
 "cells": [
  {
   "cell_type": "code",
   "execution_count": 10,
   "id": "bb22b71d",
   "metadata": {},
   "outputs": [],
   "source": [
    "from common.citylearn import CityLearn\n",
    "from pathlib import Path\n",
    "from marlisa import MARLISA as Agent\n",
    "import matplotlib.pyplot as plt\n",
    "import pickle\n",
    "import time"
   ]
  },
  {
   "cell_type": "code",
   "execution_count": 2,
   "id": "578e70bf",
   "metadata": {},
   "outputs": [],
   "source": [
    "# Load environment\n",
    "climate_zone = 5\n",
    "buildings = [\"Building_1\", \"Building_2\", \"Building_3\", \n",
    "            \"Building_4\", \"Building_5\", \"Building_6\", \n",
    "            \"Building_7\", \"Building_8\", \"Building_9\"]\n",
    "\n",
    "params = {'data_path':Path(\"data/Climate_Zone_\"+str(climate_zone)), \n",
    "        'building_attributes':'building_attributes.json', \n",
    "        'weather_file':'weather_data.csv', \n",
    "        'solar_profile':'solar_generation_1kW.csv', \n",
    "        'carbon_intensity':'carbon_intensity.csv',\n",
    "        'building_ids':buildings,\n",
    "        'buildings_states_actions':'common/buildings_state_action_space.json', \n",
    "        'simulation_period': (0, 8760*1-1),\n",
    "        'cost_function': ['ramping','1-load_factor','average_daily_peak','peak_demand','net_electricity_consumption','carbon_emissions'], \n",
    "        'central_agent': False,\n",
    "        'save_memory': False }\n",
    "\n",
    "env = CityLearn(**params)\n",
    "\n",
    "# Contains the lower and upper bounds of the states and actions, to be provided to the agent to normalize the variables between 0 and 1.\n",
    "observations_spaces, actions_spaces = env.get_state_action_spaces()\n",
    "\n",
    "# Provides information on Building type, Climate Zone, Annual DHW demand, Annual Cooling Demand, Annual Electricity Demand, Solar Capacity, and correllations among buildings\n",
    "building_info = env.get_building_information()"
   ]
  },
  {
   "cell_type": "code",
   "execution_count": 8,
   "id": "1781dfdb",
   "metadata": {},
   "outputs": [
    {
     "name": "stdout",
     "output_type": "stream",
     "text": [
      "Device:cuda\n",
      "created new agent\n"
     ]
    }
   ],
   "source": [
    "params_agent = {'building_ids':[\"Building_\"+str(i) for i in [1,2,3,4,5,6,7,8,9]],\n",
    "                 'buildings_states_actions':'common/buildings_state_action_space.json', \n",
    "                 'building_info':building_info,\n",
    "                 'observation_spaces':observations_spaces, \n",
    "                 'action_spaces':actions_spaces, \n",
    "                 'hidden_dim':[256,256], \n",
    "                 'discount':0.99, \n",
    "                 'tau':5e-3, \n",
    "                 'lr':3e-4, \n",
    "                 'batch_size':256, \n",
    "                 'replay_buffer_capacity':1e5, \n",
    "                 'regression_buffer_capacity':3e4, \n",
    "                 'start_training':600, # Start updating actor-critic networks\n",
    "                 'exploration_period':7500, # Just taking random actions\n",
    "                 'start_regression':500, # Start training the regression model\n",
    "                 'information_sharing':True, # If True -> set the appropriate 'reward_function_ma' in reward_function.py\n",
    "                 'pca_compression':.95, \n",
    "                 'action_scaling_coef':0.5, # Actions are multiplied by this factor to prevent too aggressive actions\n",
    "                 'reward_scaling':5., # Rewards are normalized and multiplied by this factor\n",
    "                 'update_per_step':2, # How many times the actor-critic networks are updated every hourly time-step\n",
    "                 'iterations_as':2,# Iterations of the iterative action selection (see MARLISA paper for more info)\n",
    "                 'safe_exploration':True} \n",
    "\n",
    "# Instantiating the control agent(s)\n",
    "agent_path = \"models/marlisa_model_multiagent\"\n",
    "try:\n",
    "    agents = pickle.load(open(agent_path, 'rb'))\n",
    "    print(\"loaded agent\")\n",
    "except:\n",
    "    agents = Agent(**params_agent)\n",
    "    pickle.dump(agents, open(agent_path, 'wb'))\n",
    "    print(\"created new agent\")"
   ]
  },
  {
   "cell_type": "code",
   "execution_count": 11,
   "id": "c625c55a",
   "metadata": {},
   "outputs": [
    {
     "name": "stdout",
     "output_type": "stream",
     "text": [
      "saved agent at episode:  0\n",
      "Loss - {'ramping': 1.0215122, '1-load_factor': 1.0164800226442399, 'average_daily_peak': 1.0067219, 'peak_demand': 1.0, 'net_electricity_consumption': 0.9986488, 'carbon_emissions': 0.9995529, 'total': 1.0071526259142887, 'coordination_score': 1.0111785069046513} Simulation time (min) - 122.51695784330369\n"
     ]
    }
   ],
   "source": [
    "# 1 episode to check time\n",
    "n_episodes = 1\n",
    "start = time.time()\n",
    "for e in range(n_episodes): \n",
    "    state = env.reset()\n",
    "    done = False\n",
    "    \n",
    "    j = 0\n",
    "    is_evaluating = False\n",
    "    action, coordination_vars = agents.select_action(state, deterministic=is_evaluating)    \n",
    "    while not done:\n",
    "        next_state, reward, done, _ = env.step(action)\n",
    "        action_next, coordination_vars_next = agents.select_action(next_state, deterministic=is_evaluating)\n",
    "        agents.add_to_buffer(state, action, reward, next_state, done, coordination_vars, coordination_vars_next)\n",
    "        coordination_vars = coordination_vars_next\n",
    "        state = next_state\n",
    "        action = action_next\n",
    "        \n",
    "        is_evaluating = (j > 3*8760)\n",
    "        j += 1\n",
    "    \n",
    "    pickle.dump(agents, open(agent_path, 'wb'))\n",
    "    print(\"saved agent at episode: \",e)\n",
    "    print('Loss -',env.cost(), 'Simulation time (min) -',(time.time()-start)/60.0)\n",
    "\n"
   ]
  },
  {
   "cell_type": "code",
   "execution_count": 12,
   "id": "9097b7f8",
   "metadata": {},
   "outputs": [
    {
     "name": "stdout",
     "output_type": "stream",
     "text": [
      "{'ramping': 1.0215122, '1-load_factor': 1.0164800226442399, 'average_daily_peak': 1.0067219, 'peak_demand': 1.0, 'net_electricity_consumption': 0.9986488, 'carbon_emissions': 0.9995529, 'total': 1.0071526259142887, 'coordination_score': 1.0111785069046513}\n"
     ]
    }
   ],
   "source": [
    "print(env.cost())"
   ]
  },
  {
   "cell_type": "markdown",
   "id": "ad0a35e3",
   "metadata": {},
   "source": [
    "### Evaluation code below"
   ]
  },
  {
   "cell_type": "code",
   "execution_count": 13,
   "id": "aab38b5d",
   "metadata": {},
   "outputs": [
    {
     "name": "stdout",
     "output_type": "stream",
     "text": [
      "loaded agent\n",
      "loaded agent\n",
      "loaded agent\n",
      "loaded agent\n",
      "{'ramping': 1.2762812972068787, '1-load_factor': 1.1214565018644076, 'average_daily_peak': 1.1987073421478271, 'peak_demand': 1.1093007624149323, 'net_electricity_consumption': 1.0117691457271576, 'carbon_emissions': 1.0171207189559937, 'total': 1.1224392947195327, 'coordination_score': 1.1764364759085115}\n"
     ]
    }
   ],
   "source": [
    "from common.citylearn import CityLearn\n",
    "from pathlib import Path\n",
    "import pickle\n",
    "\n",
    "costs = []\n",
    "for climate_zone in range(1, 5):\n",
    "    # Load environment\n",
    "    buildings = [\"Building_1\", \"Building_2\", \"Building_3\", \n",
    "                \"Building_4\", \"Building_5\", \"Building_6\", \n",
    "                \"Building_7\", \"Building_8\", \"Building_9\"]\n",
    "\n",
    "    params = {'data_path':Path(\"data/Climate_Zone_\"+str(climate_zone)), \n",
    "            'building_attributes':'building_attributes.json', \n",
    "            'weather_file':'weather_data.csv', \n",
    "            'solar_profile':'solar_generation_1kW.csv', \n",
    "            'carbon_intensity':'carbon_intensity.csv',\n",
    "            'building_ids':buildings,\n",
    "            'buildings_states_actions':'common/buildings_state_action_space.json', \n",
    "            'simulation_period': (0, 8760*1-1),\n",
    "            'cost_function': ['ramping','1-load_factor','average_daily_peak','peak_demand','net_electricity_consumption','carbon_emissions'], \n",
    "            'central_agent': False,\n",
    "            'save_memory': False }\n",
    "\n",
    "    env = CityLearn(**params)\n",
    "\n",
    "    # Contains the lower and upper bounds of the states and actions, to be provided to the agent to normalize the variables between 0 and 1.\n",
    "    observations_spaces, actions_spaces = env.get_state_action_spaces()\n",
    "\n",
    "    # Provides information on Building type, Climate Zone, Annual DHW demand, Annual Cooling Demand, Annual Electricity Demand, Solar Capacity, and correllations among buildings\n",
    "    building_info = env.get_building_information()\n",
    "\n",
    "    # Instantiating the control agent(s)\n",
    "    agent_path = \"models/marlisa_model_multiagent\"\n",
    "    try:\n",
    "        agents = pickle.load(open(agent_path, 'rb'))\n",
    "        print(\"loaded agent\")\n",
    "    except:\n",
    "        raise ValueError(\"no agent found in: \" + agent_path)\n",
    "\n",
    "    state = env.reset()\n",
    "    done = False\n",
    "\n",
    "    action, coordination_vars = agents.select_action(state)   \n",
    "    i = 0\n",
    "    while not done:\n",
    "        next_state, reward, done, _ = env.step(action)\n",
    "        action_next, coordination_vars_next = agents.select_action(next_state)\n",
    "        coordination_vars = coordination_vars_next\n",
    "        state = next_state\n",
    "        action = action_next\n",
    "    costs.append(env.cost())\n",
    "\n",
    "    sim_period = (5000, 5500)\n",
    "\n",
    "avg_costs = {}\n",
    "for key in costs[0].keys():\n",
    "    avg_costs[key] = 0.0\n",
    "    for climate_zone in range(1, 5):\n",
    "        avg_costs[key] += costs[climate_zone-1][key]\n",
    "    avg_costs[key] /= 4\n",
    "\n",
    "print(avg_costs)"
   ]
  },
  {
   "cell_type": "code",
   "execution_count": 18,
   "id": "aae2cf60",
   "metadata": {},
   "outputs": [
    {
     "ename": "IndexError",
     "evalue": "index 30600 is out of bounds for axis 0 with size 8759",
     "output_type": "error",
     "traceback": [
      "\u001b[0;31m---------------------------------------------------------------------------\u001b[0m",
      "\u001b[0;31mIndexError\u001b[0m                                Traceback (most recent call last)",
      "\u001b[0;32m/tmp/ipykernel_17340/374792505.py\u001b[0m in \u001b[0;36m<module>\u001b[0;34m\u001b[0m\n\u001b[1;32m      2\u001b[0m \u001b[0minterval\u001b[0m \u001b[0;34m=\u001b[0m \u001b[0mrange\u001b[0m\u001b[0;34m(\u001b[0m\u001b[0;36m8760\u001b[0m\u001b[0;34m*\u001b[0m\u001b[0;36m3\u001b[0m \u001b[0;34m+\u001b[0m \u001b[0;36m24\u001b[0m\u001b[0;34m*\u001b[0m\u001b[0;36m30\u001b[0m\u001b[0;34m*\u001b[0m\u001b[0;36m6\u001b[0m\u001b[0;34m,\u001b[0m \u001b[0;36m8760\u001b[0m\u001b[0;34m*\u001b[0m\u001b[0;36m3\u001b[0m \u001b[0;34m+\u001b[0m \u001b[0;36m24\u001b[0m\u001b[0;34m*\u001b[0m\u001b[0;36m30\u001b[0m\u001b[0;34m*\u001b[0m\u001b[0;36m6\u001b[0m \u001b[0;34m+\u001b[0m \u001b[0;36m24\u001b[0m\u001b[0;34m*\u001b[0m\u001b[0;36m10\u001b[0m\u001b[0;34m)\u001b[0m\u001b[0;34m\u001b[0m\u001b[0;34m\u001b[0m\u001b[0m\n\u001b[1;32m      3\u001b[0m \u001b[0mplt\u001b[0m\u001b[0;34m.\u001b[0m\u001b[0mfigure\u001b[0m\u001b[0;34m(\u001b[0m\u001b[0mfigsize\u001b[0m\u001b[0;34m=\u001b[0m\u001b[0;34m(\u001b[0m\u001b[0;36m16\u001b[0m\u001b[0;34m,\u001b[0m\u001b[0;36m5\u001b[0m\u001b[0;34m)\u001b[0m\u001b[0;34m)\u001b[0m\u001b[0;34m\u001b[0m\u001b[0;34m\u001b[0m\u001b[0m\n\u001b[0;32m----> 4\u001b[0;31m \u001b[0mplt\u001b[0m\u001b[0;34m.\u001b[0m\u001b[0mplot\u001b[0m\u001b[0;34m(\u001b[0m\u001b[0menv\u001b[0m\u001b[0;34m.\u001b[0m\u001b[0mnet_electric_consumption_no_pv_no_storage\u001b[0m\u001b[0;34m[\u001b[0m\u001b[0minterval\u001b[0m\u001b[0;34m]\u001b[0m\u001b[0;34m)\u001b[0m\u001b[0;34m\u001b[0m\u001b[0;34m\u001b[0m\u001b[0m\n\u001b[0m\u001b[1;32m      5\u001b[0m \u001b[0mplt\u001b[0m\u001b[0;34m.\u001b[0m\u001b[0mplot\u001b[0m\u001b[0;34m(\u001b[0m\u001b[0menv\u001b[0m\u001b[0;34m.\u001b[0m\u001b[0mnet_electric_consumption_no_storage\u001b[0m\u001b[0;34m[\u001b[0m\u001b[0minterval\u001b[0m\u001b[0;34m]\u001b[0m\u001b[0;34m)\u001b[0m\u001b[0;34m\u001b[0m\u001b[0;34m\u001b[0m\u001b[0m\n\u001b[1;32m      6\u001b[0m \u001b[0mplt\u001b[0m\u001b[0;34m.\u001b[0m\u001b[0mplot\u001b[0m\u001b[0;34m(\u001b[0m\u001b[0menv\u001b[0m\u001b[0;34m.\u001b[0m\u001b[0mnet_electric_consumption\u001b[0m\u001b[0;34m[\u001b[0m\u001b[0minterval\u001b[0m\u001b[0;34m]\u001b[0m\u001b[0;34m,\u001b[0m \u001b[0;34m'--'\u001b[0m\u001b[0;34m)\u001b[0m\u001b[0;34m\u001b[0m\u001b[0;34m\u001b[0m\u001b[0m\n",
      "\u001b[0;31mIndexError\u001b[0m: index 30600 is out of bounds for axis 0 with size 8759"
     ]
    },
    {
     "data": {
      "text/plain": [
       "<Figure size 1152x360 with 0 Axes>"
      ]
     },
     "metadata": {},
     "output_type": "display_data"
    }
   ],
   "source": [
    "# Plotting summer operation in the last year\n",
    "interval = range(8760*3 + 24*30*6, 8760*3 + 24*30*6 + 24*10)\n",
    "plt.figure(figsize=(16,5))\n",
    "plt.plot(env.net_electric_consumption_no_pv_no_storage[interval])\n",
    "plt.plot(env.net_electric_consumption_no_storage[interval])\n",
    "plt.plot(env.net_electric_consumption[interval], '--')\n",
    "plt.xlabel('time (hours)')\n",
    "plt.ylabel('kW')\n",
    "plt.legend(['Electricity demand without storage or generation (kW)', \n",
    "            'Electricity demand with PV generation and without storage(kW)', \n",
    "            'Electricity demand with PV generation and using RBC for storage(kW)'])"
   ]
  },
  {
   "cell_type": "code",
   "execution_count": 17,
   "id": "46568f40",
   "metadata": {},
   "outputs": [
    {
     "data": {
      "text/plain": [
       "8759"
      ]
     },
     "execution_count": 17,
     "metadata": {},
     "output_type": "execute_result"
    }
   ],
   "source": [
    "len(env.net_electric_consumption_no_pv_no_storage)"
   ]
  },
  {
   "cell_type": "code",
   "execution_count": 19,
   "id": "f062fd76",
   "metadata": {},
   "outputs": [
    {
     "ename": "IndexError",
     "evalue": "index 26280 is out of bounds for axis 0 with size 8759",
     "output_type": "error",
     "traceback": [
      "\u001b[0;31m---------------------------------------------------------------------------\u001b[0m",
      "\u001b[0;31mIndexError\u001b[0m                                Traceback (most recent call last)",
      "\u001b[0;32m/tmp/ipykernel_17340/2271969849.py\u001b[0m in \u001b[0;36m<module>\u001b[0;34m\u001b[0m\n\u001b[1;32m      2\u001b[0m \u001b[0mplt\u001b[0m\u001b[0;34m.\u001b[0m\u001b[0mfigure\u001b[0m\u001b[0;34m(\u001b[0m\u001b[0mfigsize\u001b[0m\u001b[0;34m=\u001b[0m\u001b[0;34m(\u001b[0m\u001b[0;36m16\u001b[0m\u001b[0;34m,\u001b[0m\u001b[0;36m5\u001b[0m\u001b[0;34m)\u001b[0m\u001b[0;34m)\u001b[0m\u001b[0;34m\u001b[0m\u001b[0;34m\u001b[0m\u001b[0m\n\u001b[1;32m      3\u001b[0m \u001b[0minterval\u001b[0m \u001b[0;34m=\u001b[0m \u001b[0mrange\u001b[0m\u001b[0;34m(\u001b[0m\u001b[0;36m8760\u001b[0m\u001b[0;34m*\u001b[0m\u001b[0;36m3\u001b[0m\u001b[0;34m,\u001b[0m \u001b[0;36m8760\u001b[0m\u001b[0;34m*\u001b[0m\u001b[0;36m3\u001b[0m \u001b[0;34m+\u001b[0m \u001b[0;36m24\u001b[0m\u001b[0;34m*\u001b[0m\u001b[0;36m5\u001b[0m\u001b[0;34m)\u001b[0m\u001b[0;34m\u001b[0m\u001b[0;34m\u001b[0m\u001b[0m\n\u001b[0;32m----> 4\u001b[0;31m \u001b[0mplt\u001b[0m\u001b[0;34m.\u001b[0m\u001b[0mplot\u001b[0m\u001b[0;34m(\u001b[0m\u001b[0menv\u001b[0m\u001b[0;34m.\u001b[0m\u001b[0mnet_electric_consumption_no_pv_no_storage\u001b[0m\u001b[0;34m[\u001b[0m\u001b[0minterval\u001b[0m\u001b[0;34m]\u001b[0m\u001b[0;34m)\u001b[0m\u001b[0;34m\u001b[0m\u001b[0;34m\u001b[0m\u001b[0m\n\u001b[0m\u001b[1;32m      5\u001b[0m \u001b[0mplt\u001b[0m\u001b[0;34m.\u001b[0m\u001b[0mplot\u001b[0m\u001b[0;34m(\u001b[0m\u001b[0menv\u001b[0m\u001b[0;34m.\u001b[0m\u001b[0mnet_electric_consumption_no_storage\u001b[0m\u001b[0;34m[\u001b[0m\u001b[0minterval\u001b[0m\u001b[0;34m]\u001b[0m\u001b[0;34m)\u001b[0m\u001b[0;34m\u001b[0m\u001b[0;34m\u001b[0m\u001b[0m\n\u001b[1;32m      6\u001b[0m \u001b[0mplt\u001b[0m\u001b[0;34m.\u001b[0m\u001b[0mplot\u001b[0m\u001b[0;34m(\u001b[0m\u001b[0menv\u001b[0m\u001b[0;34m.\u001b[0m\u001b[0mnet_electric_consumption\u001b[0m\u001b[0;34m[\u001b[0m\u001b[0minterval\u001b[0m\u001b[0;34m]\u001b[0m\u001b[0;34m,\u001b[0m \u001b[0;34m'--'\u001b[0m\u001b[0;34m)\u001b[0m\u001b[0;34m\u001b[0m\u001b[0;34m\u001b[0m\u001b[0m\n",
      "\u001b[0;31mIndexError\u001b[0m: index 26280 is out of bounds for axis 0 with size 8759"
     ]
    },
    {
     "data": {
      "text/plain": [
       "<Figure size 1152x360 with 0 Axes>"
      ]
     },
     "metadata": {},
     "output_type": "display_data"
    }
   ],
   "source": [
    "\n",
    "# Plotting 5 days of winter operation of the last year\n",
    "plt.figure(figsize=(16,5))\n",
    "interval = range(8760*3, 8760*3 + 24*5)\n",
    "plt.plot(env.net_electric_consumption_no_pv_no_storage[interval])\n",
    "plt.plot(env.net_electric_consumption_no_storage[interval])\n",
    "plt.plot(env.net_electric_consumption[interval], '--')\n",
    "plt.xlabel('time (hours)')\n",
    "plt.ylabel('kW')\n",
    "plt.legend(['Electricity demand without storage or generation (kW)', \n",
    "            'Electricity demand with PV generation and without storage(kW)', \n",
    "            'Electricity demand with PV generation and using RBC for storage(kW)'])"
   ]
  },
  {
   "cell_type": "code",
   "execution_count": null,
   "id": "1f4cabc4",
   "metadata": {},
   "outputs": [],
   "source": []
  }
 ],
 "metadata": {
  "kernelspec": {
   "display_name": "Python 3 (ipykernel)",
   "language": "python",
   "name": "python3"
  },
  "language_info": {
   "codemirror_mode": {
    "name": "ipython",
    "version": 3
   },
   "file_extension": ".py",
   "mimetype": "text/x-python",
   "name": "python",
   "nbconvert_exporter": "python",
   "pygments_lexer": "ipython3",
   "version": "3.8.15"
  }
 },
 "nbformat": 4,
 "nbformat_minor": 5
}
